{
 "cells": [
  {
   "cell_type": "markdown",
   "metadata": {},
   "source": [
    "![Spark Logo](http://spark-mooc.github.io/web-assets/images/ta_Spark-logo-small.png)  ![Python Logo](http://spark-mooc.github.io/web-assets/images/python-logo-master-v3-TM-flattened_small.png)\n",
    "# Comptant paraules: Construeix una aplicació que compti paraules de forma eficient\n",
    "\n",
    "En aquesta tasca s'utilitzarà Pyspark per desenvolupar una aplicació de comptatge de paraules.\n",
    "\n",
    "Amb l'ús massiu d'Internet i les xarxes socials, el volum de text no estructurat esta creixent dramàticament, i Spark és una gran eina per analitzar aquest tipus de dades. En aquesta tasca, anem a escriure codi per trobar les paraules més comuns en un text generat en latin, el ja conegut [Lorem Ipsum](https://www.lipsum.com/).\n",
    "\n",
    "\n",
    "El més interessant de la forma de treballar en aquesta tasca és que podria escalar-se a casos de big data com, per exemple, trobar les paraules més comuns a la Wikipedia.\n",
    "\n",
    "## Durant aquesta TASCA cobrirem les següents parts:\n",
    "\n",
    "* *Part 1:* Creació d'un RDD i un pair RDD\n",
    "* *Part 2:* Comptar paraules fent servir un pair RDD\n",
    "* *Part 3:* Trobar les paraules individuals i la seva freqüència d'aparició mitjana\n",
    "* *Part 4:* Aplicar les funcionalitats desenvolupades a un arxiu de text *\n",
    "* *Part 5:* Calcular alguns estadístics *\n",
    "\n",
    "\n",
    "> Com a referència a tots els detalls dels mètodes que es fan servir en aquesta pràctica utilitzar:\n",
    "> * [API Python de Spark](https://spark.apache.org/docs/latest/api/python/pyspark.html#pyspark.RDD)\n",
    "\n",
    "Per començar, cal carregar l'entorn. Com a nom d'app poseu M3T01_nom_cognom.\n",
    "\n",
    "Recordeu afegir tots els comentaris o quadres de text necessaris per explicar detalladament tot el que es fa i justificar les decisions així com comentar els resultats."
   ]
  },
  {
   "cell_type": "code",
   "execution_count": 1,
   "metadata": {},
   "outputs": [],
   "source": [
    "import findspark\n",
    "findspark.init()\n",
    "import pyspark\n",
    "import random"
   ]
  },
  {
   "cell_type": "code",
   "execution_count": 2,
   "metadata": {},
   "outputs": [],
   "source": [
    "sc = pyspark.SparkContext(master=\"local[1]\", appName=\"new\", conf=pyspark.SparkConf().set(\"spark.driver.host\", \"127.0.0.1\"))"
   ]
  },
  {
   "cell_type": "markdown",
   "metadata": {},
   "source": [
    "## Part 1: Creació d'un RDD i un pair RDDs\n",
    "\n",
    "En aquesta secció, explorarem com crear RRDs usant `parallelize` i com aplicar pair RDDs al problema del recompte de paraules.\n",
    "\n",
    "### (0) Configuració de l'entorn python + spark\n",
    "Poseu nom a la aplicació (appName) en format \"**M3T01_**+Nom_Cognom\""
   ]
  },
  {
   "cell_type": "markdown",
   "metadata": {},
   "source": [
    "### Opcions de configuració PySpark\n",
    "Les opcions que ens dona Spark en quant a optimitzar el rendiment son gairebé infinites, entre altres tenim la funció **setAll** que ens permet configurar el funcionament del framework al detall.\n",
    "\n",
    "**Investiga sobre aquesta funció i destaca les opción que consideris més rellevants**"
   ]
  },
  {
   "cell_type": "code",
   "execution_count": 3,
   "metadata": {},
   "outputs": [],
   "source": [
    "from pyspark import SparkContext, SparkConf\n",
    "\n",
    "# Si hi ha un SparkContext existent hem de tancar-ho abans\n",
    "if 'sc' in locals() and sc:\n",
    "    sc.stop()\n",
    "\n",
    "# Configuració de Spark\n",
    "conf = SparkConf().setAppName(\"M3T01_PatriciaA_Peña\").set(\"spark.executor.heartbeatInterval\", \"3600s\").set(\"spark.network.timeout\", \"7200s\")\n",
    "sc = SparkContext(conf=conf)"
   ]
  },
  {
   "cell_type": "markdown",
   "metadata": {},
   "source": [
    "### (1a) Creació d'un RDD\n",
    "Comencem generant un RDD a partir d'una llista de Python i el mètode `sc.parallelize`. Després mostrarem per pantalla el tipus de la variable generada."
   ]
  },
  {
   "cell_type": "code",
   "execution_count": 4,
   "metadata": {},
   "outputs": [
    {
     "data": {
      "text/plain": [
       "pyspark.rdd.RDD"
      ]
     },
     "execution_count": 4,
     "metadata": {},
     "output_type": "execute_result"
    }
   ],
   "source": [
    "wordsList = ['cat', 'elephant', 'rat', 'rat', 'cat']\n",
    "wordsRDD = sc.parallelize(wordsList)\n",
    "# Print out the type of wordsRDD\n",
    "type(wordsRDD)"
   ]
  },
  {
   "cell_type": "markdown",
   "metadata": {},
   "source": [
    "### (1b) Crear el plural de les paraules i testejar\n",
    "\n",
    "Utilitzarem una transformació `map()` per incorporar la lletra 's' a cada un dels strings emmagatzemats en el RDD que acabem de crear. Anem a definir una funció de Python que retorni una paraula, que se li ha passat com paràmetre, incorporant una \"s\" al final de la mateixa. Substitueix el text `<FILL IN>` amb la solucio proposada. Després d'haver definit correctament la funció `makePlural`, executar la segona cel·la que conté un assert de test. Si la solució és correcta, s'imprimirà `1 test passed`.\n",
    "\n",
    "Aquesta serà la forma habitual de treballar en les algunes de les tasques del curs. Els exercicis contindran una explicació del que s'espera, seguit d'una cel·la de codi amb un o més `<FILL IN>`. Les cel·les que necessitin ser modificades contindran el text `# TOT: Replace <FILL IN> with appropriate code` a la primera línia.\n",
    "\n",
    "Un cop s'hagin substituït tots els `<FILL IN>` pel codi Python adequat, executar la cel·la, i posteriorment executar la cel·la següent de test per comprovar que que la solució és l'esperada."
   ]
  },
  {
   "cell_type": "code",
   "execution_count": 5,
   "metadata": {},
   "outputs": [
    {
     "data": {
      "text/plain": [
       "'cats'"
      ]
     },
     "execution_count": 5,
     "metadata": {},
     "output_type": "execute_result"
    }
   ],
   "source": [
    "# TODO: Replace <FILL IN> with appropriate code\n",
    "def makePlural(word):\n",
    "    \"\"\"Adds an 's' to `word`.\n",
    "\n",
    "    Note:\n",
    "        This is a simple function that only adds an 's'.  \n",
    "\n",
    "    Args:\n",
    "        word (str): A string.\n",
    "\n",
    "    Returns:\n",
    "        str: A string with 's' added to it.\n",
    "    \"\"\"\n",
    "    return word + 's'\n",
    "\n",
    "\n",
    "makePlural('cat')"
   ]
  },
  {
   "cell_type": "code",
   "execution_count": 6,
   "metadata": {},
   "outputs": [],
   "source": [
    "# TEST Pluralize and test (1b)\n",
    "assert makePlural('rat') == 'rats', 'incorrect result: makePlural does not add an s' "
   ]
  },
  {
   "cell_type": "markdown",
   "metadata": {},
   "source": [
    "### (1c) Aplicar `makePlural` al nostre RDD\n",
    "\n",
    "Ara és el moment d'aplicar la nostra funció `makePlural()` a tots els elements del RDD usant una transformació [map()](http://spark.apache.org/docs/latest/api/python/pyspark.html#pyspark.RDD.map). Posteriorment executar l'acció [collect ()](http://spark.apache.org/docs/latest/api/python/pyspark.html#pyspark.RDD.collect) per obtenir el RDD transformat."
   ]
  },
  {
   "cell_type": "code",
   "execution_count": 7,
   "metadata": {},
   "outputs": [
    {
     "data": {
      "text/plain": [
       "['cats', 'elephants', 'rats', 'rats', 'cats']"
      ]
     },
     "execution_count": 7,
     "metadata": {},
     "output_type": "execute_result"
    }
   ],
   "source": [
    "# TODO: Replace <FILL IN> with appropriate code\n",
    "pluralRDD = wordsRDD.map(makePlural)\n",
    "pluralRDD.collect()"
   ]
  },
  {
   "cell_type": "code",
   "execution_count": 8,
   "metadata": {},
   "outputs": [],
   "source": [
    "# TEST Apply makePlural to the base RDD(1c)\n",
    "assert pluralRDD.collect() == ['cats', 'elephants', 'rats', 'rats', 'cats'], 'incorrect values for pluralRDD'"
   ]
  },
  {
   "cell_type": "markdown",
   "metadata": {},
   "source": [
    "### (1d) Executar una funció `lambda` en un` map`\n",
    "\n",
    "Crearem el mateix RDD usant una `lambda` function en lloc d'una funció amb nom."
   ]
  },
  {
   "cell_type": "code",
   "execution_count": 9,
   "metadata": {},
   "outputs": [
    {
     "name": "stdout",
     "output_type": "stream",
     "text": [
      "['cats', 'elephants', 'rats', 'rats', 'cats']\n"
     ]
    }
   ],
   "source": [
    "# TODO: Replace <FILL IN> with appropriate code\n",
    "pluralLambdaRDD = wordsRDD.map(lambda word: word + 's')\n",
    "print(pluralLambdaRDD.collect())"
   ]
  },
  {
   "cell_type": "code",
   "execution_count": 10,
   "metadata": {},
   "outputs": [],
   "source": [
    "# TEST Pass a lambda function to map (1d)\n",
    "assert pluralLambdaRDD.collect() == ['cats', 'elephants', 'rats', 'rats', 'cats'], 'incorrect values for pluralLambdaRDD (1d)'"
   ]
  },
  {
   "cell_type": "markdown",
   "metadata": {},
   "source": [
    "### (1e) Nombre de caràcters de cadascuna de les paraules\n",
    "\n",
    "Ara farem servir un `map()` i una funció lambda `lambda` per obtenir el nombre de caràcters de cada paraula. Farem servir `collect` per guardar aquest resultat directament en una variable."
   ]
  },
  {
   "cell_type": "code",
   "execution_count": 11,
   "metadata": {},
   "outputs": [],
   "source": [
    "nchars = lambda w : len(w)"
   ]
  },
  {
   "cell_type": "code",
   "execution_count": 12,
   "metadata": {},
   "outputs": [
    {
     "name": "stdout",
     "output_type": "stream",
     "text": [
      "[4, 9, 4, 4, 4]\n"
     ]
    }
   ],
   "source": [
    "# TODO: Replace <FILL IN> with appropriate code\n",
    "pluralLengths = pluralRDD.map(nchars).collect()\n",
    "print(pluralLengths)"
   ]
  },
  {
   "cell_type": "code",
   "execution_count": 13,
   "metadata": {},
   "outputs": [],
   "source": [
    "# TEST Length of each word (1e)\n",
    "assert pluralLengths == [4, 9, 4, 4, 4], 'incorrect values for pluralLengths'"
   ]
  },
  {
   "cell_type": "markdown",
   "metadata": {},
   "source": [
    "### (1f) Pair RDDs\n",
    "\n",
    "El següent pas per a completar el nostre programa de comptatge de paraules és crear un nou tipus de RDD, anomenat pair RDD. Un pair RDD és un RDD on cada element és un tupla de l'estil `(k, v)` on `k` és la clau i `v` és el seu valor corresponent. En aquest exemple, crearem una pair RDD consistent en tuples amb el format `('<word>', 1)` per a cada element del nostre RDD bàsic.\n",
    "\n",
    "Podem crear el nostre pair RDD usant una transformació `map()` amb una `lambda()` funció que creï un nou RDD."
   ]
  },
  {
   "cell_type": "code",
   "execution_count": 14,
   "metadata": {},
   "outputs": [
    {
     "name": "stdout",
     "output_type": "stream",
     "text": [
      "[('cat', 1), ('elephant', 1), ('rat', 1), ('rat', 1), ('cat', 1)]\n"
     ]
    }
   ],
   "source": [
    "# TODO: Replace <FILL IN> with appropriate code\n",
    "wordPairs = wordsRDD.map(lambda word: (word, 1))\n",
    "print(wordPairs.collect())"
   ]
  },
  {
   "cell_type": "code",
   "execution_count": 15,
   "metadata": {},
   "outputs": [],
   "source": [
    "# TEST Pair RDDs (1f)\n",
    "assert wordPairs.collect() == [('cat', 1), ('elephant', 1), ('rat', 1), ('rat', 1), ('cat', 1)], 'incorrect value for wordPairs'"
   ]
  },
  {
   "cell_type": "markdown",
   "metadata": {},
   "source": [
    "## Part 2: Comptar paraules usant un pair RDD\n",
    "\n",
    "Ara, comptarem el nombre de vegades que una paraula en particular apareix al RDD. Aquesta operació es pot realitzar d'una infinitat de maneres, però algunes seran molt menys eficients que d'altres.\n",
    "\n",
    "Un solucio molt senzilla seriosa utilitzar `collect()` sobre tots els elements retornar-los al driver i alli comptar-los. Mentre aquesta forma de treballar podria funcionar amb textos relativament curts, nosaltres el que volem és poder treballar amb textos de qualsevol longitud. Addicionalment, executar tot el càlcul al controlador és molt més lent que executar en paral·lel en els workers. Per aquests motius, en aquesta practica farem servir operacions paralelizables.\n",
    "\n",
    "### (2a) Usant `groupByKey()`\n",
    "Una primera solució al nostre problema, després veurem que hi ha altres molt més eficients, es podria basar en la transformació [groupByKey()](http://spark.apache.org/docs/latest/api/python/pyspark.html#pyspark.RDD.groupByKey). Com el seu nom indica, la transformació `groupByKey ()` agrupa tots els elements d'un RDD que comparteixin la mateixa clau en una única llista dins d'una de les particions.\n",
    "\n",
    "Aquesta operació planteja dos problemes:\n",
    "  + Aquesta operació necessita moure tots els valors dins de la partició adequada. Això satura la xarxa.\n",
    "  + Les llistes generades poden arribar a ser molt grans arribant fins i tot a saturar la memòria d'algun dels trabajadadores\n",
    "  \n",
    "Utilitza `groupByKey()` per generar un pair RDD del tipus `('word', Iterator)`."
   ]
  },
  {
   "cell_type": "code",
   "execution_count": 16,
   "metadata": {},
   "outputs": [
    {
     "name": "stdout",
     "output_type": "stream",
     "text": [
      "elephant: [1]\n",
      "rat: [1, 1]\n",
      "cat: [1, 1]\n"
     ]
    }
   ],
   "source": [
    "# TODO: Replace <FILL IN> with appropriate code\n",
    "# Note that groupByKey requires no parameters\n",
    "wordsGrouped = wordPairs.groupByKey()\n",
    "for key, value in wordsGrouped.collect():\n",
    "    print('{0}: {1}'.format(key, list(value)))"
   ]
  },
  {
   "cell_type": "code",
   "execution_count": 17,
   "metadata": {},
   "outputs": [],
   "source": [
    "# TEST groupByKey() approach (2a)\n",
    "assert sorted(wordsGrouped.mapValues(lambda x: list(x)).collect()) == [('cat', [1, 1]), ('elephant', [1]), ('rat', [1, 1])], 'incorrect value for wordsGrouped'"
   ]
  },
  {
   "cell_type": "markdown",
   "metadata": {},
   "source": [
    "### (2b) Utilitza `groupByKey()` per obtenir els recomptes\n",
    "\n",
    "Usant la transformació `groupByKey()` crea un RDD que contingui 2 elements, on cada un d'ells sigui un parell paraula (clau) Iterador de Python (valor).\n",
    "\n",
    "Després suma tots els valors de iterator usant una transformació `map()`. El resultat ha de ser un pair RDD que contingui les parelles (word, count)."
   ]
  },
  {
   "cell_type": "code",
   "execution_count": 18,
   "metadata": {},
   "outputs": [
    {
     "name": "stdout",
     "output_type": "stream",
     "text": [
      "[('elephant', 1), ('rat', 2), ('cat', 2)]\n"
     ]
    }
   ],
   "source": [
    "# TODO: Replace <FILL IN> with appropriate code\n",
    "wordCountsGrouped = wordsGrouped.map(lambda x: (x[0], sum(x[1])))\n",
    "print(wordCountsGrouped.collect())"
   ]
  },
  {
   "cell_type": "code",
   "execution_count": 19,
   "metadata": {},
   "outputs": [],
   "source": [
    "# TEST Use groupByKey() to obtain the counts (2b)\n",
    "assert sorted(wordCountsGrouped.collect())==[('cat', 2), ('elephant', 1), ('rat', 2)],'incorrect value for wordCountsGrouped'"
   ]
  },
  {
   "cell_type": "markdown",
   "metadata": {},
   "source": [
    "### (2c) Conteig usant `reduceByKey`\n",
    "\n",
    "Una millor solució és començar des d'un pair RDD i aleshores utilitzar la transformació [reduceByKey()](http://spark.apache.org/docs/latest/api/python/pyspark.html#pyspark.RDD.reduceByKey) per crear un nou pair RDD. La transformació `reduceByKey()` agrupa totes les parelles que comparteixen la mateixa clau. Posteriorment s'aplica la funció que se li passa per paràmetre agrupant els valors de dos en dos. Aquest procés es repeteix iterativament fins que obtenim un únic valor afegit per a cadascuna de les claus de l'pair RDD. `ReduceByKey()` opera aplicant la funció primer dins de cadascuna de les particions de forma independent, i posteriorment únicament comparteix els valors agregats entre particions diferents, permetent escalar de forma eficient ja que no té necessitat de desplaçar per la xarxa una gran quantitat de dades."
   ]
  },
  {
   "cell_type": "code",
   "execution_count": 20,
   "metadata": {},
   "outputs": [
    {
     "name": "stdout",
     "output_type": "stream",
     "text": [
      "[('elephant', 1), ('rat', 2), ('cat', 2)]\n"
     ]
    }
   ],
   "source": [
    "# TODO: Replace <FILL IN> with appropriate code\n",
    "# Note that reduceByKey takes in a function that accepts two values and returns a single value\n",
    "wordCounts = wordPairs.reduceByKey(lambda x, y: x + y)\n",
    "print (wordCounts.collect())"
   ]
  },
  {
   "cell_type": "code",
   "execution_count": 21,
   "metadata": {},
   "outputs": [],
   "source": [
    "# TEST Counting using reduceByKey (2c)\n",
    "assert sorted(wordCounts.collect())==[('cat', 2), ('elephant', 1), ('rat', 2)],'incorrect value for wordCounts'"
   ]
  },
  {
   "cell_type": "markdown",
   "metadata": {},
   "source": [
    "### (2d) Ara tot junt\n",
    "\n",
    "La versió més complexa del codi executa primer un `map()` sobre el pair RDD, la transformació `reduceByKey()`, i finalment l'acció `collect()` en una única línia de codi."
   ]
  },
  {
   "cell_type": "code",
   "execution_count": 22,
   "metadata": {},
   "outputs": [
    {
     "name": "stdout",
     "output_type": "stream",
     "text": [
      "[('elephant', 1), ('rat', 2), ('cat', 2)]\n"
     ]
    }
   ],
   "source": [
    "# TODO: Replace <FILL IN> with appropriate code\n",
    "wordCountsCollected = wordPairs.reduceByKey(lambda x, y: x + y).collect()\n",
    "print(wordCountsCollected)"
   ]
  },
  {
   "cell_type": "code",
   "execution_count": 23,
   "metadata": {},
   "outputs": [],
   "source": [
    "# TEST All together (2d)\n",
    "assert sorted(wordCountsCollected)==[('cat', 2), ('elephant', 1), ('rat', 2)],'incorrect value for wordCountsCollected'"
   ]
  },
  {
   "cell_type": "markdown",
   "metadata": {},
   "source": [
    "## Part 3: Trobar les paraules individuals i la seva freqüència d'aparició mitjana\n",
    "\n",
    "### (3a) Paraules úniques\n",
    "\n",
    "Calcular el nombre de paraules úniques en `wordsRDD`. Pots utitlziar altres RDDs que hagis creat en aquesta practica si et resulta més senzill."
   ]
  },
  {
   "cell_type": "code",
   "execution_count": 24,
   "metadata": {},
   "outputs": [],
   "source": [
    "# TODO: Replace <FILL IN> with appropriate code\n",
    "uniqueWords = wordsRDD.distinct().count()"
   ]
  },
  {
   "cell_type": "code",
   "execution_count": 25,
   "metadata": {},
   "outputs": [],
   "source": [
    "# TEST Unique words (3a)\n",
    "assert uniqueWords== 3, 'incorrect count of uniqueWords'"
   ]
  },
  {
   "cell_type": "markdown",
   "metadata": {},
   "source": [
    "### (3b) Calular la mitjana usant `reduce()`\n",
    "\n",
    "Troba la freqüència mitjana de aparició de paraules en `wordCounts`.\n",
    "\n",
    "Utilitza l'acció `reduce()` per sumar els recomptes en `wordCounts` i llavors divideix pel nombre de paraules úniques. Per realitzar això primer s'aplica un `map()` a pair RDD `wordCounts`, que està format per tuples amb el format (key, value), per convertir-lo en un RDD de valors."
   ]
  },
  {
   "cell_type": "code",
   "execution_count": 26,
   "metadata": {},
   "outputs": [
    {
     "name": "stdout",
     "output_type": "stream",
     "text": [
      "5\n",
      "1.67\n"
     ]
    }
   ],
   "source": [
    "# TODO: Replace <FILL IN> with appropriate code\n",
    "from operator import add\n",
    "totalCount = wordCounts.map(lambda x: x[1]).reduce(add)\n",
    "average = totalCount / uniqueWords\n",
    "print(totalCount)\n",
    "print(round(average, 2))"
   ]
  },
  {
   "cell_type": "code",
   "execution_count": 27,
   "metadata": {},
   "outputs": [],
   "source": [
    "# TEST Mean using reduce (3b)\n",
    "assert round(average, 2)==1.67, 'incorrect value of average'"
   ]
  },
  {
   "cell_type": "markdown",
   "metadata": {},
   "source": [
    "## Part 4: Aplicar les funcionalitats desenvolupades a un arxiu de text\n",
    "\n",
    "Per això hem de construir una funció `wordCount`, capaç de treballar amb dades del món real que solen presenten problemes com l'ús de majúscules o minúscules, puntuació, accents, etc. Posteriorment, carregar les dades de la nostra font de dades i finalment, calular el recompte de paraules sobre les dades processades.\n",
    "\n",
    "### (4a) funcio `wordCount`\n",
    "\n",
    "Primer, defineix una funció per al recompte de paraules. Hauries de reutilitzar les tècniques que has vist en els apartats anteriors d'aquesta practica. Aquesta funció, ha de prendre un RDD que contingui una llista de paraules, i tornar un pair RDD que contingui totes les paraules amb els seus corresponents recomptes."
   ]
  },
  {
   "cell_type": "code",
   "execution_count": 28,
   "metadata": {},
   "outputs": [
    {
     "name": "stdout",
     "output_type": "stream",
     "text": [
      "[('elephant', 1), ('rat', 2), ('cat', 2)]\n"
     ]
    }
   ],
   "source": [
    "# TODO: Replace <FILL IN> with appropriate code\n",
    "def wordCount(wordListRDD):\n",
    "    \"\"\"Creates a pair RDD with word counts from an RDD of words.\n",
    "\n",
    "    Args:\n",
    "        wordListRDD (RDD of str): An RDD consisting of words.\n",
    "\n",
    "    Returns:\n",
    "        RDD of (str, int): An RDD consisting of (word, count) tuples.\n",
    "    \"\"\"\n",
    "    return wordListRDD.map(lambda x: (x, 1)).reduceByKey(lambda x, y: x + y)\n",
    "print(wordCount(wordsRDD).collect())"
   ]
  },
  {
   "cell_type": "code",
   "execution_count": 29,
   "metadata": {},
   "outputs": [],
   "source": [
    "# TEST wordCount function (4a)\n",
    "assert sorted(wordCount(wordsRDD).collect())==[('cat', 2), ('elephant', 1), ('rat', 2)],'incorrect definition for wordCount function'"
   ]
  },
  {
   "cell_type": "markdown",
   "metadata": {},
   "source": [
    "### (4b) majúscules i puntuació\n",
    "\n",
    "Els fitxers del món real són molt més complexos que els que hem estat usant en aquesta PAC. Alguns dels problemes que són necessaris de solucionar són:\n",
    "  + Les paraules han de comptar-se independentment tan si estan en mayuscula o minúscula (per exemple, Spark i spark haurien explicar-se com la mateixa paraula).\n",
    "  + Tots els signes de puntuació han d'eliminar-se.\n",
    "  + Qualsevol espai al principi o al final de la paraula ha de eliminar-se.\n",
    "  \n",
    "Defineix la funció `removePunctuation` que converteixi tot el text a minúscules, elimini els signes de puntuació, i elimini els espais al principi i final de cada paraula. Utilitza el mòdul de Python [re](https://docs.python.org/2/library/re.html) per eliminar qualsevol caràcter que no sigui una lletra, un nombre o un espai.\n",
    "\n",
    "Sinó aquestes familiaritzat amb les expressions regulars hauries revisar [aquest tutorial](https://developers.google.com/edu/python/regular-expressions). Alternativament, [aquest web](https://regex101.com/#python) és de gran ajuda per a debugar les teves expressions regulars.\n",
    "\n",
    "** Hints **\n",
    "\n",
    "1. Fes servir la funcio [re.sub()](https://docs.python.org/2.7/library/re.html#re.sub).\n",
    "2. Per als nostres propòsits, \"puntuació\" significa \"no alphabetico, numèric, o espai.\" La expressio regular que defineix aquests caràcters és: `[^A-Za-z\\s\\d]`\n",
    "3. No fer servir `\\W`, ja que retindrà els guions baixos."
   ]
  },
  {
   "cell_type": "code",
   "execution_count": 30,
   "metadata": {},
   "outputs": [
    {
     "name": "stdout",
     "output_type": "stream",
     "text": [
      "hi you\n",
      "no underscore\n",
      "remove punctuation then spaces\n",
      "the elephants 4 cats\n"
     ]
    }
   ],
   "source": [
    "# TODO: Replace <FILL IN> with appropriate code\n",
    "import re\n",
    "def removePunctuation(text):\n",
    "    \"\"\"Removes punctuation, changes to lower case, and strips leading and trailing spaces.\n",
    "\n",
    "    Note:\n",
    "        Only whitespace, letters, and numbers should be retained.  Other characters should should be\n",
    "        eliminated (e.g. it's becomes its).  Leading and trailing spaces should be removed after\n",
    "        punctuation is removed.\n",
    "\n",
    "    Args:\n",
    "        text (str): A string.\n",
    "\n",
    "    Returns:\n",
    "        str: The cleaned up string.\n",
    "    \"\"\"\n",
    "    \n",
    "    return re.sub(r'[^A-Za-z\\s\\d]', '', text).lower().strip()\n",
    "    \n",
    "print(removePunctuation('Hi, you!'))\n",
    "print(removePunctuation(' No under_score!'))\n",
    "print(removePunctuation(' *      Remove punctuation then spaces  * '))\n",
    "print(removePunctuation(\" The Elephant's 4 cats. \"))"
   ]
  },
  {
   "cell_type": "code",
   "execution_count": 31,
   "metadata": {},
   "outputs": [],
   "source": [
    "# TEST Capitalization and punctuation (4b)\n",
    "assert removePunctuation(\" The Elephant's 4 cats. \") == 'the elephants 4 cats', 'incorrect definition for removePunctuation function'"
   ]
  },
  {
   "cell_type": "markdown",
   "metadata": {},
   "source": [
    "### (4c) Carregar un fitxer de text\n",
    "\n",
    "Per a la següent part, farem servir el text ja esmentat Lorem Ipsum generat per a la pràctica. Para convertir un fitxer de text en un RDD, farem servir el mètode `SparkContext.textFile()`. També farem servir la funció que acabem de crear `removePunctuation()` dins d'una transformació `map()` per eliminar tots els caràcters no alphabeticos, numèrics or espais. Atès que el fitxer és bastant grandre, farem servir `take(15)`, de manera que tan sols imprimirem per pantalla les 15 primeres línies."
   ]
  },
  {
   "cell_type": "code",
   "execution_count": 32,
   "metadata": {},
   "outputs": [
    {
     "data": {
      "text/plain": [
       "['lorem ipsum dolor sit amet consectetuer adipiscing elit sed diam nonummy nibh euismod tincidunt ut laoreet dolore magna aliquam erat volutpat ut wisi enim ad minim veniam quis nostrud exerci tation ullamcorper suscipit lobortis nisl ut aliquip ex ea commodo consequat duis autem vel eum iriure dolor in hendrerit in vulputate velit esse molestie consequat vel illum dolore eu feugiat nulla facilisis at vero eros et accumsan et iusto odio dignissim qui blandit praesent luptatum zzril delenit augue duis dolore te feugait nulla facilisi',\n",
       " 'expetenda tincidunt in sed ex partem placerat sea porro commodo ex eam his putant aeterno interesset at usu ea mundi tincidunt omnium virtute aliquando ius ex ea aperiri sententiae duo usu nullam dolorum quaestio ei sit vidit facilisis ea per ne impedit iracundia neglegentur consetetur neglegentur eum ut vis animal legimus inimicus id',\n",
       " 'his audiam deserunt in eum ubique voluptatibus te in reque dicta usu ne rebum dissentiet eam vim omnis deseruisse id ullum deleniti vituperata at quo insolens complectitur te eos ea pri dico munere propriae vel ferri facilis ut qui paulo ridens praesent ad possim alterum qui cu accusamus consulatu ius te cu decore soleat appareat usu',\n",
       " 'est ei erat mucius quaeque ei his quas phaedrum efficiantur mediocritatem ne sed hinc oratio blandit ei sed blandit gloriatur eam et brute noluisse per et verear disputando neglegentur at quo sea quem legere ei unum soluta ne duo ludus complectitur quo te ut vide autem homero pro',\n",
       " 'vis id minim dicant sensibus pri aliquip conclusionemque ad ad malis evertitur torquatos his has ei solum harum reprimique id illum saperet tractatos his ei omnis soleat antiopam quo ad augue inani postulant mel mel ea qualisque forensibus',\n",
       " 'lorem salutandi eu mea eam in soleat iriure assentior tamquam lobortis id qui ea sanctus democritum mei per eu alterum electram adversarium ea vix probo dicta iuvaret posse epicurei suavitate eam an nam et vidit menandri ut his accusata petentium',\n",
       " 'meis vocent signiferumque pri et facilis corpora recusabo ne quo eum ne eruditi blandit suscipiantur mazim sapientem sed id sea debet commune iracundia in eius falli propriae te usu in usu nonummy volumus expetenda sint quando facilisis ei per delectus constituto sea te',\n",
       " 'wisi forensibus mnesarchum in cum per id impetus abhorreant his no magna definiebas inani rationibus in quo ut vidisse dolores est ut quis nominavi mel ad pri quod apeirian concludaturque id timeam iudicabit rationibus pri erant putant luptatum ex sit error euismod ad qui meliore voluptatum complectitur an vix clita persius sed et vix vidit consulatu complectitur ex per nonummy postulant assentior an mea audiam fabellas deserunt id',\n",
       " 'cu nam labores lobortis definiebas ei aliquyam salutatus persequeris quo cum eu nemore fierent dissentiunt per vero dolor id vide democritum scribentur eu vim pri erroribus temporibus ex euismod molestie offendit has no quo te semper invidunt quaestio per vituperatoribus sadipscing ei partem aliquyam sensibus in cum',\n",
       " 'mei eu mollis albucius ex nisl contentiones vix duo persius volutpat at cu iuvaret epicuri mei duo posse pertinacia no ex dolor contentiones mea nec omnium utamur dignissim ne mundi lucilius salutandi an sea ne sea aeque iudico comprehensam populo delicatissimi ad pri ex vitae accusam vivendum pro']"
      ]
     },
     "execution_count": 32,
     "metadata": {},
     "output_type": "execute_result"
    }
   ],
   "source": [
    "# Tan solo ejecuta este codigo\n",
    "import os.path\n",
    "\n",
    "fileName = os.path.join(r\"C:\\Users\\patri\\Downloads\", 'Lorem_Ipsum.txt')\n",
    "loremRDD = sc.textFile(fileName, 8).map(removePunctuation).filter(lambda x: len(x)>0)\n",
    "loremRDD.take(10)"
   ]
  },
  {
   "cell_type": "markdown",
   "metadata": {},
   "source": [
    "### (4d) Extreure les paraules de les línies\n",
    "\n",
    "Abans de poder utilitzar la funció `wordcount()`, hem de solucionar dos problemes amb el format del RDD:\n",
    "  + El primer problema és que necessitem dividir cada línia pels seus espais. **Això ho solucionarem en l'apartat (4d).**\n",
    "  + El segon problema és que necessitem filtar les línies completament buides. **Això ho solucionarem en l'apartat (4e).**\n",
    "\n",
    "Per aplicar una transformació que divideixi cada element del RDD pels seus espais, hem d'aplicar la funció incorporada en els strings de Python [split()](https://docs.python.org/2/library/string.html#string .split). Compte que a primera vista pot semblar que la funció necessària és una transformació `map()`, però si penses una mica mes sobre el resultat de la funció `split()` t'adonaràs que aquesta no és l'opció correcta.\n",
    "\n",
    "> Nota:\n",
    "> * No facis servir la implementació estàndard de l' `split()`, passa-li un valor de separació. Per exemple, per dividir `line` per comes, usa `line.split(',')`."
   ]
  },
  {
   "cell_type": "code",
   "execution_count": 33,
   "metadata": {},
   "outputs": [],
   "source": [
    "# TODO: Replace <FILL IN> with appropriate code\n",
    "loremWordsRDD = loremRDD.flatMap(lambda line: line.split())\n",
    "loremWordsCount = loremWordsRDD.count()"
   ]
  },
  {
   "cell_type": "code",
   "execution_count": 34,
   "metadata": {},
   "outputs": [],
   "source": [
    "# TEST Words from lines (4d)\n",
    "# This test allows for leading spaces to be removed either before or after\n",
    "# punctuation is removed.\n",
    "assert loremWordsCount == 2342, 'incorrect value for loremWordsCount'\n",
    "assert loremWordsRDD.top(5)==[u'zzril', u'zzril', u'zzril', u'zzril', u'zzril'], 'incorrect value for loremWordsRDD'"
   ]
  },
  {
   "cell_type": "markdown",
   "metadata": {},
   "source": [
    "### (4e) Calcula paraules diferents\n",
    "\n",
    "El següent pas és comptar quantes paraules diferents conté el nostre text. Podeu fer servir transformacions `map()` i `reduceByKey()` ja utilitzades anteriorment."
   ]
  },
  {
   "cell_type": "code",
   "execution_count": 35,
   "metadata": {},
   "outputs": [],
   "source": [
    "# TODO: Replace <FILL IN> with appropriate code\n",
    "distintWordsMapRDD = loremWordsRDD.map(lambda word: (word, 1))\n",
    "\n",
    "distintWordsRDD=distintWordsMapRDD.reduceByKey(lambda x, y: x + y)"
   ]
  },
  {
   "cell_type": "code",
   "execution_count": 36,
   "metadata": {},
   "outputs": [],
   "source": [
    "# TEST Remove empty elements (4e)\n",
    "assert distintWordsRDD.count()== 364, 'incorrect value for shakeWordCount'"
   ]
  },
  {
   "cell_type": "markdown",
   "metadata": {},
   "source": [
    "### (4f) Compte les paraules\n",
    "\n",
    "Ara que tenim un RDD que conté només paraules. El següent pas és aplicar la funció `wordCount()` per a produir una llista amb els recomptes de paraules. Podem veure les 15 més comuns usant l'acció `takeOrdered()`; però, com els elements del RRD són parells, necessitem una funció especial que ordeni els parells de la forma correcta.\n",
    "\n",
    "Utilitza les funcions `wordCount()` i `takeOrdered()` per obtenir les 15 paraules més comuns juntament amb els seus recomptes."
   ]
  },
  {
   "cell_type": "code",
   "execution_count": 37,
   "metadata": {},
   "outputs": [
    {
     "data": {
      "text/plain": [
       "[('et', 49),\n",
       " ('id', 47),\n",
       " ('ea', 40),\n",
       " ('ei', 40),\n",
       " ('in', 40),\n",
       " ('ad', 39),\n",
       " ('ut', 37),\n",
       " ('his', 35),\n",
       " ('te', 35),\n",
       " ('at', 34),\n",
       " ('ex', 30),\n",
       " ('ne', 30),\n",
       " ('per', 30),\n",
       " ('quo', 26),\n",
       " ('sea', 26)]"
      ]
     },
     "execution_count": 37,
     "metadata": {},
     "output_type": "execute_result"
    }
   ],
   "source": [
    "# TODO: Replace <FILL IN> with appropriate code\n",
    "top15WordsAndCounts = sorted(\n",
    "    [(elemento[0], elemento[1]) for elemento in wordCount(loremWordsRDD)\n",
    "     .map(lambda x: (x[0], x[1]))\n",
    "     .takeOrdered(364, key=lambda x: (-x[1], x[0]))],\n",
    "    key=lambda x: x[1], reverse=True)[:15]\n",
    "top15WordsAndCounts"
   ]
  },
  {
   "cell_type": "raw",
   "metadata": {},
   "source": [
    "# TEST Count the words (4f)\n",
    "assert top15WordsAndCounts== [('et', 49), ('id', 47), ('ei', 40), \n",
    "                              ('in', 40), ('ea', 40), ('ad', 39), \n",
    "                              ('ut', 37), ('his', 35), ('te', 35), \n",
    "                              ('at', 34), ('ex', 30), ('per', 30), \n",
    "                              ('ne', 30), ('quo', 26), ('sea', 26)],'incorrect value for top15WordsAndCounts'"
   ]
  },
  {
   "cell_type": "markdown",
   "metadata": {},
   "source": [
    "    No vaig aconseguir que passés perquè no s'ordenaven correctament i salta l'error, així que per això està en raw"
   ]
  },
  {
   "cell_type": "markdown",
   "metadata": {},
   "source": [
    "## Part 5: Calcular alguns estadístics\n",
    "\n",
    "Usant les mateixes tècniques que has aplicat en els exercicis anteriors respon a les següents preguntes:\n",
    "\n",
    "### (5a) Quantes paraules diferents tenen exactament dos 'o'?"
   ]
  },
  {
   "cell_type": "code",
   "execution_count": 38,
   "metadata": {},
   "outputs": [
    {
     "name": "stdout",
     "output_type": "stream",
     "text": [
      "0\n"
     ]
    }
   ],
   "source": [
    "countWords_oo = distintWordsRDD.filter(lambda x: x.count('o') == 2).count()\n",
    "print(countWords_oo)"
   ]
  },
  {
   "cell_type": "markdown",
   "metadata": {},
   "source": [
    "### (5b) Quina és la paraula de nou lletres que més es repeteix? Quantes vegades apareix?"
   ]
  },
  {
   "cell_type": "code",
   "execution_count": 39,
   "metadata": {},
   "outputs": [
    {
     "name": "stdout",
     "output_type": "stream",
     "text": [
      "('complectitur', 16)\n"
     ]
    }
   ],
   "source": [
    "# words9Chars = distintWordsRDD.map(lambda x: (x, 1) if(len(x)==9) else None )\n",
    "words9Chars = (\n",
    "    loremWordsRDD\n",
    "    .filter(lambda x: len(x) >= 9)\n",
    "    .map(lambda x: (x, 1))\n",
    "    .reduceByKey(lambda x, y: x + y)\n",
    "    .max(lambda x: x[1])\n",
    ")\n",
    "\n",
    "print(words9Chars)"
   ]
  },
  {
   "cell_type": "markdown",
   "metadata": {},
   "source": [
    "### (5c) Quantes paraules diferents tenen més vocals que consonants?"
   ]
  },
  {
   "cell_type": "code",
   "execution_count": 40,
   "metadata": {},
   "outputs": [
    {
     "name": "stdout",
     "output_type": "stream",
     "text": [
      "False\n",
      "61\n"
     ]
    }
   ],
   "source": [
    "def moreVowels(word):\n",
    "    vowels = set(\"aeiou\")\n",
    "    vowel_count = sum(1 for char in word if char in vowels)\n",
    "    consonant_count = len(word) - vowel_count\n",
    "    return vowel_count > consonant_count\n",
    "    \n",
    "print(moreVowels('murcielago'))\n",
    "\n",
    "# Amb el text Lorem Ipsum\n",
    "wordsMV = loremWordsRDD.filter(moreVowels).distinct()\n",
    "print(wordsMV.count())"
   ]
  }
 ],
 "metadata": {
  "kernelspec": {
   "display_name": "Python 3 (ipykernel)",
   "language": "python",
   "name": "python3"
  },
  "language_info": {
   "codemirror_mode": {
    "name": "ipython",
    "version": 3
   },
   "file_extension": ".py",
   "mimetype": "text/x-python",
   "name": "python",
   "nbconvert_exporter": "python",
   "pygments_lexer": "ipython3",
   "version": "3.11.4"
  },
  "name": "Lab_1_WordCount",
  "notebookId": 1529163670453288
 },
 "nbformat": 4,
 "nbformat_minor": 4
}
